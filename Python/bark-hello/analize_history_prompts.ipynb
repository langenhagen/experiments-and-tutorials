{
 "cells": [
  {
   "cell_type": "code",
   "execution_count": null,
   "id": "cd78fa0c-2e66-4ded-9360-9e53da76bd0e",
   "metadata": {
    "tags": []
   },
   "outputs": [],
   "source": [
    "# Analyze those npz files / speakers / full_generations / history_promts\n",
    "import numpy as np\n",
    "from bark import SAMPLE_RATE\n",
    "from IPython.display import Audio, display\n",
    "\n",
    "# optionally, load a speaker from disk\n",
    "full_generation = dict(np.load(\"voices/sarah-24.npz\"))\n",
    "print(f\"{type(full_generation)=}\")\n",
    "print(f\"{full_generation.keys()=}\")\n",
    "\n",
    "# the full_generation dict entries are not audio files\n",
    "# display(Audio(full_generation[\"semantic_prompt\"], rate=SAMPLE_RATE, autoplay=False))\n",
    "# display(Audio(full_generation[\"coarse_prompt\"], rate=SAMPLE_RATE, autoplay=False))\n",
    "# display(Audio(full_generation[\"fine_prompt\"], rate=SAMPLE_RATE, autoplay=False))\n",
    "\n",
    "print(\"full_generation:\")\n",
    "print(full_generation)"
   ]
  }
 ],
 "metadata": {
  "kernelspec": {
   "display_name": "Python 3 (ipykernel)",
   "language": "python",
   "name": "python3"
  },
  "language_info": {
   "codemirror_mode": {
    "name": "ipython",
    "version": 3
   },
   "file_extension": ".py",
   "mimetype": "text/x-python",
   "name": "python",
   "nbconvert_exporter": "python",
   "pygments_lexer": "ipython3",
   "version": "3.11.0"
  }
 },
 "nbformat": 4,
 "nbformat_minor": 5
}
