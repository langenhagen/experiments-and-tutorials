{
 "cells": [
  {
   "cell_type": "markdown",
   "metadata": {},
   "source": [
    "# Implementation of the 1st Chapter of the Book \"Hands On Computer Vision with TensorFlow 2\""
   ]
  },
  {
   "cell_type": "code",
   "execution_count": 1,
   "metadata": {
    "tags": []
   },
   "outputs": [],
   "source": [
    "%load_ext autoreload\n",
    "%autoreload 2"
   ]
  },
  {
   "cell_type": "code",
   "execution_count": 2,
   "metadata": {},
   "outputs": [],
   "source": [
    "# load the MNIST handwritten digit dataset\n",
    "import numpy as np\n",
    "import mnist\n",
    "\n",
    "np.random.seed(42)\n",
    "\n",
    "# load and transform the images into column vectors as inputs for the NN\n",
    "X_train = mnist.train_images().reshape(-1, 28 * 28)\n",
    "y_train = mnist.train_labels()\n",
    "X_test = mnist.test_images().reshape(-1, 28 * 28)\n",
    "y_test = mnist.test_labels()\n",
    "n_classes = 10\n",
    "\n",
    "# one-hot the labels \n",
    "y_train = np.eye(n_classes)[y_train]"
   ]
  },
  {
   "cell_type": "code",
   "execution_count": 8,
   "metadata": {
    "tags": []
   },
   "outputs": [
    {
     "output_type": "stream",
     "name": "stdout",
     "text": "accuracy = 8.53%\n"
    }
   ],
   "source": [
    "# TODO apply NN\n",
    "from network import SimpleNetwork\n",
    "\n",
    "mnist_classifier = SimpleNetwork(X_train.shape[1], n_classes, [64, 32])\n",
    "\n",
    "accuracy = mnist_classifier.evaluate_accuracy(X_test, y_test)\n",
    "print(f\"accuracy = {round(accuracy * 100, 2)}%\")"
   ]
  }
 ],
 "metadata": {
  "kernelspec": {
   "display_name": "Python 3.8.3 64-bit ('.venv')",
   "language": "python",
   "name": "python38364bitvenv1aeb3980e8f94a05b95f8c7302892afd"
  },
  "language_info": {
   "codemirror_mode": {
    "name": "ipython",
    "version": 3
   },
   "file_extension": ".py",
   "mimetype": "text/x-python",
   "name": "python",
   "nbconvert_exporter": "python",
   "pygments_lexer": "ipython3",
   "version": "3.8.3-final"
  }
 },
 "nbformat": 4,
 "nbformat_minor": 4
}