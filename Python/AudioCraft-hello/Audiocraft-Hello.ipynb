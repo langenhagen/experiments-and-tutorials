{
 "cells": [
  {
   "cell_type": "markdown",
   "id": "e224b041-c807-43ae-94b7-f5696b1d2105",
   "metadata": {},
   "source": [
    "# AudioCraft Hello\n",
    "\n",
    "Showcase the usage of the Music Generation library `AudioCraft` https://github.com/facebookresearch/audiocraft.\n",
    "\n",
    "Seems to require lotsof VRAM (allegedly 16GB for the medium model).\n",
    "Seems to run on the CPU on the testing machine with a 2080 TI, thus not so fast. However, this allows to use the GPU for other tasks."
   ]
  },
  {
   "cell_type": "code",
   "execution_count": null,
   "id": "0e5a601c-015e-41af-abd4-cf7e975cc6a4",
   "metadata": {},
   "outputs": [],
   "source": [
    "import scipy\n",
    "from IPython.display import Audio\n",
    "from transformers import AutoProcessor, MusicgenForConditionalGeneration\n",
    "\n",
    "# generate text-conditional audio samples:\n",
    "processor = AutoProcessor.from_pretrained(\"facebook/musicgen-small\")\n",
    "model = MusicgenForConditionalGeneration.from_pretrained(\"facebook/musicgen-small\")\n",
    "\n",
    "inputs = processor(\n",
    "    # text=[\"futuristic melodic complex dance music\"],\n",
    "    text=[\"hawaiian melodic guitar music\", \"a happy play with drums and clarinet\"],\n",
    "    padding=True,\n",
    "    return_tensors=\"pt\",\n",
    ")\n",
    "\n",
    "audio_values = model.generate(**inputs, max_new_tokens=1024)\n",
    "\n",
    "# listen to the audio samples\n",
    "sampling_rate = model.config.audio_encoder.sampling_rate\n",
    "\n",
    "\n",
    "for a in audio_values:\n",
    "    display(Audio(a.numpy(), rate=sampling_rate))"
   ]
  },
  {
   "cell_type": "code",
   "execution_count": null,
   "id": "c77a32f8-e014-479e-a45f-eea87b4a48c2",
   "metadata": {},
   "outputs": [],
   "source": [
    "# save audio as a .wav file\n",
    "\n",
    "index = 0\n",
    "\n",
    "sampling_rate = model.config.audio_encoder.sampling_rate\n",
    "scipy.io.wavfile.write(\"musicgen_out.wav\", rate=sampling_rate, data=audio_values[index, 0].numpy())"
   ]
  }
 ],
 "metadata": {
  "kernelspec": {
   "display_name": "Python 3 (ipykernel)",
   "language": "python",
   "name": "python3"
  },
  "language_info": {
   "codemirror_mode": {
    "name": "ipython",
    "version": 3
   },
   "file_extension": ".py",
   "mimetype": "text/x-python",
   "name": "python",
   "nbconvert_exporter": "python",
   "pygments_lexer": "ipython3",
   "version": "3.10.12"
  }
 },
 "nbformat": 4,
 "nbformat_minor": 5
}
