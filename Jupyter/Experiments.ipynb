{
 "cells": [
  {
   "cell_type": "code",
   "execution_count": 1,
   "metadata": {},
   "outputs": [
    {
     "name": "stdout",
     "output_type": "stream",
     "text": [
      "/home/barn/Dev/scripts\n"
     ]
    }
   ],
   "source": [
    "pwd"
   ]
  },
  {
   "cell_type": "code",
   "execution_count": 21,
   "metadata": {},
   "outputs": [
    {
     "name": "stdout",
     "output_type": "stream",
     "text": [
      "line_no: 5\n",
      "\n",
      "  This is the input of a variable\\nIt can span\\n    several lines, but echo won't print linebreaks.\\n printf will.\\n\n",
      "\n",
      "-----------------\n",
      "\n",
      "Hello this\n",
      "is a proper test.\n",
      "\n",
      "next release\n",
      "------------\n",
      "This is the input of a variable\n",
      "It can span\n",
      "    several lines, but echo won't print linebreaks.\n",
      " printf will.\n",
      "\n",
      "\n",
      "We got that\n",
      "and it might even be incorrect.\n",
      "But let's try."
     ]
    }
   ],
   "source": [
    "set +x\n",
    "\n",
    "IFS='' read -r -d '' myvar <<EOF\n",
    "  This is the input of a variable\n",
    "It can span\n",
    "    several lines, but echo won't print linebreaks.\n",
    " printf will.\n",
    "EOF\n",
    "\n",
    "line_no=\"$(awk '/next release/ {print FNR+1; exit;}' foo.txt)\"\n",
    "\n",
    "printf \"line_no: $line_no\\n\\n\"\n",
    "\n",
    "\n",
    "myvar_onelined=\"$(printf '%s\\n' \"$myvar\" | sed -E ':a;N;$!ba;s/\\r{0,1}\\n/\\\\n/g')\"\n",
    "printf '%s' \"$myvar_onelined\"\n",
    "printf \"\\n\\n-----------------\\n\\n\"\n",
    "\n",
    "sed \"${line_no}a${myvar_onelined}\" foo.txt\n"
   ]
  },
  {
   "cell_type": "code",
   "execution_count": 4,
   "metadata": {},
   "outputs": [
    {
     "name": "stdout",
     "output_type": "stream",
     "text": [
      "  This is the input of a variable\n",
      "It can span\n",
      "    several lines, but echo won't print linebreaks.\n",
      " printf will.\n",
      "\n"
     ]
    }
   ],
   "source": [
    "IFS='' read -r -d '' myvar <<EOF\n",
    "  This is the input of a variable\n",
    "It can span\n",
    "    several lines, but echo won't print linebreaks.\n",
    " printf will.\n",
    "EOF\n",
    "\n",
    "printf '%s\\n' \"$myvar\""
   ]
  },
  {
   "cell_type": "code",
   "execution_count": 9,
   "metadata": {},
   "outputs": [
    {
     "ename": "",
     "evalue": "1",
     "execution_count": 9,
     "output_type": "error",
     "traceback": []
    }
   ],
   "source": [
    "IFS='' read -r -d '' commit_msg <<EOF\n",
    "NO-TICKET [UPDATE] required versions of internal dependencies\n",
    "\n",
    "Update required versions of c1-dependencies.\n",
    "Also adjust CHANGES.rst.\n",
    "EOF\n",
    "\n"
   ]
  },
  {
   "cell_type": "code",
   "execution_count": 13,
   "metadata": {},
   "outputs": [
    {
     "name": "stdout",
     "output_type": "stream",
     "text": [
      "  This is the input of a variable\n",
      "It can span\n",
      "   several lines, but echo won't print linebreaks.\n",
      " printf will.\n"
     ]
    }
   ],
   "source": [
    "myvar=$(cat << EOF\n",
    "  This is the input of a variable\n",
    "It can span\n",
    "   several lines, but echo won't print linebreaks.\n",
    " printf will.\n",
    "EOF\n",
    ")\n",
    "\n",
    "printf '%s\\n' \"$myvar\""
   ]
  },
  {
   "cell_type": "code",
   "execution_count": 1,
   "metadata": {},
   "outputs": [
    {
     "name": "stdout",
     "output_type": "stream",
     "text": [
      "\n"
     ]
    }
   ],
   "source": [
    "cd ~/c1/c1-entitlement\n",
    "\n",
    "# find . -regextype egrep -regex '.*(buildout\\.cfg|versions\\.cfg|requirements\\.txt|setup\\.py)'\n",
    "\n",
    "# find . -regextype egrep -regex '.*(buildout\\.cfg|versions\\.cfg|requirements\\.txt|setup\\.py)' -exec echo yo \\;\n",
    "\n",
    "# find . -regextype egrep -regex '.*(buildout\\.cfg|versions\\.cfg|requirements\\.txt|setup\\.py)' -exec \\\n",
    "#     sed 's/.*\\(c1-[A-Za-z-]\\)\\(.*\\)/\\1  ==========  \\2/' '{}' \\;\n",
    "\n",
    "find . -regextype egrep -regex '.*(buildout\\.cfg|versions\\.cfg|requirements\\.txt|setup\\.py)' -exec \\\n",
    "    sed -i \"s/\\(.*c1-[A-Za-z-]*[[:space:]]*>*==*[[:space:]]*\\)\\([0-9.][0-9.]*\\)\\(.*\\)/\\1miau\\3/\" '{}' \\;\n"
   ]
  }
 ],
 "metadata": {
  "kernelspec": {
   "display_name": "Bash",
   "language": "bash",
   "name": "bash"
  },
  "language_info": {
   "codemirror_mode": "shell",
   "file_extension": ".sh",
   "mimetype": "text/x-sh",
   "name": "bash"
  }
 },
 "nbformat": 4,
 "nbformat_minor": 2
}
