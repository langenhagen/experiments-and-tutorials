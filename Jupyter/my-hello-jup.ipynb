{
 "cells": [
  {
   "cell_type": "markdown",
   "metadata": {},
   "source": [
    "**Hello Jupyter!!**\n",
    "\n",
    "\n",
    "I followed the splendid tutorial found here: https://www.youtube.com/watch?v=HW29067qVWk\n",
    "\n",
    "\n",
    "___Halaaa :)___\n",
    "\n",
    "I am a markdown\n",
    "\n",
    "\n",
    "Edit Mode: Enter\n",
    "Normal mode: Escape\n",
    "\n",
    "- Run cell:  ctrl + enter\n",
    "- Run Cell and jump to next one: shift + enter\n",
    "- Run cell and create one below: alt + enter"
   ]
  },
  {
   "cell_type": "code",
   "execution_count": 1,
   "metadata": {},
   "outputs": [
    {
     "name": "stdout",
     "output_type": "stream",
     "text": [
      "Hello\n"
     ]
    }
   ],
   "source": [
    "print(\"Hello\")"
   ]
  },
  {
   "cell_type": "code",
   "execution_count": 2,
   "metadata": {},
   "outputs": [
    {
     "name": "stdout",
     "output_type": "stream",
     "text": [
      "middle\n"
     ]
    }
   ],
   "source": [
    "print(\"middle\")"
   ]
  },
  {
   "cell_type": "code",
   "execution_count": 3,
   "metadata": {},
   "outputs": [],
   "source": [
    "name = \"Cory\""
   ]
  },
  {
   "cell_type": "code",
   "execution_count": 4,
   "metadata": {},
   "outputs": [
    {
     "data": {
      "text/plain": [
       "'Cory'"
      ]
     },
     "execution_count": 4,
     "metadata": {},
     "output_type": "execute_result"
    }
   ],
   "source": [
    "name"
   ]
  },
  {
   "cell_type": "code",
   "execution_count": 5,
   "metadata": {},
   "outputs": [],
   "source": [
    "name = \"Smith\"  # execution order of cells might differ from top-down order"
   ]
  },
  {
   "cell_type": "code",
   "execution_count": 6,
   "metadata": {},
   "outputs": [
    {
     "name": "stdout",
     "output_type": "stream",
     "text": [
      "Hallo\n"
     ]
    }
   ],
   "source": [
    "!bash -c \"echo \\\"Hallo\\\"\""
   ]
  },
  {
   "cell_type": "code",
   "execution_count": 7,
   "metadata": {},
   "outputs": [
    {
     "name": "stdout",
     "output_type": "stream",
     "text": [
      "/Users/langenha/personal/Dev/Jupyter\n"
     ]
    }
   ],
   "source": [
    "!pwd"
   ]
  },
  {
   "cell_type": "code",
   "execution_count": 8,
   "metadata": {},
   "outputs": [
    {
     "data": {
      "application/json": {
       "cell": {
        "!": "OSMagics",
        "HTML": "Other",
        "SVG": "Other",
        "bash": "Other",
        "capture": "ExecutionMagics",
        "debug": "ExecutionMagics",
        "file": "Other",
        "html": "DisplayMagics",
        "javascript": "DisplayMagics",
        "js": "DisplayMagics",
        "latex": "DisplayMagics",
        "markdown": "DisplayMagics",
        "perl": "Other",
        "prun": "ExecutionMagics",
        "pypy": "Other",
        "python": "Other",
        "python2": "Other",
        "python3": "Other",
        "ruby": "Other",
        "script": "ScriptMagics",
        "sh": "Other",
        "svg": "DisplayMagics",
        "sx": "OSMagics",
        "system": "OSMagics",
        "time": "ExecutionMagics",
        "timeit": "ExecutionMagics",
        "writefile": "OSMagics"
       },
       "line": {
        "alias": "OSMagics",
        "alias_magic": "BasicMagics",
        "autocall": "AutoMagics",
        "automagic": "AutoMagics",
        "autosave": "KernelMagics",
        "bookmark": "OSMagics",
        "cat": "Other",
        "cd": "OSMagics",
        "clear": "KernelMagics",
        "colors": "BasicMagics",
        "config": "ConfigMagics",
        "connect_info": "KernelMagics",
        "cp": "Other",
        "debug": "ExecutionMagics",
        "dhist": "OSMagics",
        "dirs": "OSMagics",
        "doctest_mode": "BasicMagics",
        "ed": "Other",
        "edit": "KernelMagics",
        "env": "OSMagics",
        "gui": "BasicMagics",
        "hist": "Other",
        "history": "HistoryMagics",
        "killbgscripts": "ScriptMagics",
        "ldir": "Other",
        "less": "KernelMagics",
        "lf": "Other",
        "lk": "Other",
        "ll": "Other",
        "load": "CodeMagics",
        "load_ext": "ExtensionMagics",
        "loadpy": "CodeMagics",
        "logoff": "LoggingMagics",
        "logon": "LoggingMagics",
        "logstart": "LoggingMagics",
        "logstate": "LoggingMagics",
        "logstop": "LoggingMagics",
        "ls": "Other",
        "lsmagic": "BasicMagics",
        "lx": "Other",
        "macro": "ExecutionMagics",
        "magic": "BasicMagics",
        "man": "KernelMagics",
        "matplotlib": "PylabMagics",
        "mkdir": "Other",
        "more": "KernelMagics",
        "mv": "Other",
        "notebook": "BasicMagics",
        "page": "BasicMagics",
        "pastebin": "CodeMagics",
        "pdb": "ExecutionMagics",
        "pdef": "NamespaceMagics",
        "pdoc": "NamespaceMagics",
        "pfile": "NamespaceMagics",
        "pinfo": "NamespaceMagics",
        "pinfo2": "NamespaceMagics",
        "pip": "BasicMagics",
        "popd": "OSMagics",
        "pprint": "BasicMagics",
        "precision": "BasicMagics",
        "profile": "BasicMagics",
        "prun": "ExecutionMagics",
        "psearch": "NamespaceMagics",
        "psource": "NamespaceMagics",
        "pushd": "OSMagics",
        "pwd": "OSMagics",
        "pycat": "OSMagics",
        "pylab": "PylabMagics",
        "qtconsole": "KernelMagics",
        "quickref": "BasicMagics",
        "recall": "HistoryMagics",
        "rehashx": "OSMagics",
        "reload_ext": "ExtensionMagics",
        "rep": "Other",
        "rerun": "HistoryMagics",
        "reset": "NamespaceMagics",
        "reset_selective": "NamespaceMagics",
        "rm": "Other",
        "rmdir": "Other",
        "run": "ExecutionMagics",
        "save": "CodeMagics",
        "sc": "OSMagics",
        "set_env": "OSMagics",
        "store": "StoreMagics",
        "sx": "OSMagics",
        "system": "OSMagics",
        "tb": "ExecutionMagics",
        "time": "ExecutionMagics",
        "timeit": "ExecutionMagics",
        "unalias": "OSMagics",
        "unload_ext": "ExtensionMagics",
        "who": "NamespaceMagics",
        "who_ls": "NamespaceMagics",
        "whos": "NamespaceMagics",
        "xdel": "NamespaceMagics",
        "xmode": "BasicMagics"
       }
      },
      "text/plain": [
       "Available line magics:\n",
       "%alias  %alias_magic  %autocall  %automagic  %autosave  %bookmark  %cat  %cd  %clear  %colors  %config  %connect_info  %cp  %debug  %dhist  %dirs  %doctest_mode  %ed  %edit  %env  %gui  %hist  %history  %killbgscripts  %ldir  %less  %lf  %lk  %ll  %load  %load_ext  %loadpy  %logoff  %logon  %logstart  %logstate  %logstop  %ls  %lsmagic  %lx  %macro  %magic  %man  %matplotlib  %mkdir  %more  %mv  %notebook  %page  %pastebin  %pdb  %pdef  %pdoc  %pfile  %pinfo  %pinfo2  %popd  %pprint  %precision  %profile  %prun  %psearch  %psource  %pushd  %pwd  %pycat  %pylab  %qtconsole  %quickref  %recall  %rehashx  %reload_ext  %rep  %rerun  %reset  %reset_selective  %rm  %rmdir  %run  %save  %sc  %set_env  %store  %sx  %system  %tb  %time  %timeit  %unalias  %unload_ext  %who  %who_ls  %whos  %xdel  %xmode\n",
       "\n",
       "Available cell magics:\n",
       "%%!  %%HTML  %%SVG  %%bash  %%capture  %%debug  %%file  %%html  %%javascript  %%js  %%latex  %%markdown  %%perl  %%prun  %%pypy  %%python  %%python2  %%python3  %%ruby  %%script  %%sh  %%svg  %%sx  %%system  %%time  %%timeit  %%writefile\n",
       "\n",
       "Automagic is ON, % prefix IS NOT needed for line magics."
      ]
     },
     "execution_count": 8,
     "metadata": {},
     "output_type": "execute_result"
    }
   ],
   "source": [
    "%lsmagic"
   ]
  },
  {
   "cell_type": "code",
   "execution_count": 6,
   "metadata": {},
   "outputs": [
    {
     "data": {
      "text/plain": [
       "'/home/barn/Dev/Jupyter'"
      ]
     },
     "execution_count": 6,
     "metadata": {},
     "output_type": "execute_result"
    }
   ],
   "source": [
    "%pwd"
   ]
  },
  {
   "cell_type": "code",
   "execution_count": 7,
   "metadata": {},
   "outputs": [
    {
     "name": "stdout",
     "output_type": "stream",
     "text": [
      "CPU times: user 5 µs, sys: 0 ns, total: 5 µs\n",
      "Wall time: 9.54 µs\n"
     ]
    }
   ],
   "source": [
    "%time"
   ]
  },
  {
   "cell_type": "code",
   "execution_count": 8,
   "metadata": {},
   "outputs": [],
   "source": [
    "%matplotlib inline"
   ]
  },
  {
   "cell_type": "code",
   "execution_count": 9,
   "metadata": {},
   "outputs": [
    {
     "data": {
      "image/png": "[encoded data removed]",
      "text/plain": [
       "<Figure size 432x288 with 1 Axes>"
      ]
     },
     "metadata": {
      "needs_background": "light"
     },
     "output_type": "display_data"
    }
   ],
   "source": [
    "# andreasl: taken from https://matplotlib.org/examples/animation/dynamic_image.html\n",
    "\"\"\"\n",
    "=================\n",
    "An animated image\n",
    "=================\n",
    "\n",
    "This example demonstrates how to animate an image.\n",
    "\"\"\"\n",
    "import numpy as np\n",
    "import matplotlib.pyplot as plt\n",
    "import matplotlib.animation as animation\n",
    "\n",
    "fig = plt.figure()\n",
    "\n",
    "\n",
    "def f(x, y):\n",
    "    return np.sin(x) + np.cos(y)\n",
    "\n",
    "x = np.linspace(0, 2 * np.pi, 120)\n",
    "y = np.linspace(0, 2 * np.pi, 100).reshape(-1, 1)\n",
    "\n",
    "im = plt.imshow(f(x, y), animated=True)\n",
    "\n",
    "\n",
    "def updatefig(*args):\n",
    "    global x, y\n",
    "    x += np.pi / 15.\n",
    "    y += np.pi / 20.\n",
    "    im.set_array(f(x, y))\n",
    "    return im,\n",
    "\n",
    "ani = animation.FuncAnimation(fig, updatefig, interval=50, blit=True)\n",
    "plt.show()"
   ]
  },
  {
   "cell_type": "code",
   "execution_count": 4,
   "metadata": {},
   "outputs": [
    {
     "data": {
      "text/html": [
       "\n",
       "You can render HTML inside the jupyter Notebook (at least, it works locally, for mee :)<br><br>\n",
       "\n",
       "    <iframe id=\"player\" type=\"text/html\" width=\"640\" height=\"390\"\n",
       "  src=\"http://www.youtube.com/embed/HW29067qVWk?enablejsapi=1&origin=http://example.com\"\n",
       "  frameborder=\"0\"></iframe>\n"
      ],
      "text/plain": [
       "<IPython.core.display.HTML object>"
      ]
     },
     "metadata": {},
     "output_type": "display_data"
    }
   ],
   "source": [
    "%%HTML\n",
    "\n",
    "You can render HTML inside the jupyter Notebook (at least, it works locally, for mee :)<br><br>\n",
    "\n",
    "    <iframe id=\"player\" type=\"text/html\" width=\"640\" height=\"390\"\n",
    "  src=\"http://www.youtube.com/embed/HW29067qVWk?enablejsapi=1&origin=http://example.com\"\n",
    "  frameborder=\"0\"></iframe>"
   ]
  },
  {
   "cell_type": "code",
   "execution_count": 14,
   "metadata": {},
   "outputs": [
    {
     "name": "stdout",
     "output_type": "stream",
     "text": [
      "71.5 µs ± 3.71 µs per loop (mean ± std. dev. of 7 runs, 10000 loops each)\n"
     ]
    }
   ],
   "source": [
    "%%timeit\n",
    "square_evens = [n*n for n in range(1000)]  # %%timeit measures the time the time the cell execution takes :)"
   ]
  },
  {
   "cell_type": "code",
   "execution_count": 15,
   "metadata": {},
   "outputs": [
    {
     "data": {
      "text/html": [
       "<div>\n",
       "<style scoped>\n",
       "    .dataframe tbody tr th:only-of-type {\n",
       "        vertical-align: middle;\n",
       "    }\n",
       "\n",
       "    .dataframe tbody tr th {\n",
       "        vertical-align: top;\n",
       "    }\n",
       "\n",
       "    .dataframe thead th {\n",
       "        text-align: right;\n",
       "    }\n",
       "</style>\n",
       "<table border=\"1\" class=\"dataframe\">\n",
       "  <thead>\n",
       "    <tr style=\"text-align: right;\">\n",
       "      <th></th>\n",
       "      <th>0</th>\n",
       "      <th>1</th>\n",
       "      <th>2</th>\n",
       "      <th>3</th>\n",
       "      <th>4</th>\n",
       "    </tr>\n",
       "  </thead>\n",
       "  <tbody>\n",
       "    <tr>\n",
       "      <th>0</th>\n",
       "      <td>0.568869</td>\n",
       "      <td>-0.062642</td>\n",
       "      <td>-2.307531</td>\n",
       "      <td>1.381190</td>\n",
       "      <td>-0.325677</td>\n",
       "    </tr>\n",
       "    <tr>\n",
       "      <th>1</th>\n",
       "      <td>-0.100696</td>\n",
       "      <td>2.198449</td>\n",
       "      <td>0.932088</td>\n",
       "      <td>0.344532</td>\n",
       "      <td>-1.171470</td>\n",
       "    </tr>\n",
       "    <tr>\n",
       "      <th>2</th>\n",
       "      <td>0.170480</td>\n",
       "      <td>0.363760</td>\n",
       "      <td>-0.021208</td>\n",
       "      <td>-1.490270</td>\n",
       "      <td>-0.621019</td>\n",
       "    </tr>\n",
       "    <tr>\n",
       "      <th>3</th>\n",
       "      <td>1.814101</td>\n",
       "      <td>-2.719995</td>\n",
       "      <td>-0.399657</td>\n",
       "      <td>2.942032</td>\n",
       "      <td>0.669937</td>\n",
       "    </tr>\n",
       "    <tr>\n",
       "      <th>4</th>\n",
       "      <td>1.037880</td>\n",
       "      <td>1.982305</td>\n",
       "      <td>-0.032472</td>\n",
       "      <td>-0.556573</td>\n",
       "      <td>-1.651124</td>\n",
       "    </tr>\n",
       "  </tbody>\n",
       "</table>\n",
       "</div>"
      ],
      "text/plain": [
       "          0         1         2         3         4\n",
       "0  0.568869 -0.062642 -2.307531  1.381190 -0.325677\n",
       "1 -0.100696  2.198449  0.932088  0.344532 -1.171470\n",
       "2  0.170480  0.363760 -0.021208 -1.490270 -0.621019\n",
       "3  1.814101 -2.719995 -0.399657  2.942032  0.669937\n",
       "4  1.037880  1.982305 -0.032472 -0.556573 -1.651124"
      ]
     },
     "execution_count": 15,
     "metadata": {},
     "output_type": "execute_result"
    }
   ],
   "source": [
    "# jupyter notebooks can render nice tables\n",
    "\n",
    "import pandas as pd\n",
    "import numpy as np\n",
    "\n",
    "df = pd.DataFrame(np.random.randn(10,5))\n",
    "df.head()"
   ]
  },
  {
   "cell_type": "markdown",
   "metadata": {},
   "source": [
    "found here: https://docs.anaconda.com/anaconda-cloud/user-guide/tasks/work-with-notebooks\n",
    "\n",
    "You can upload jupyter notebooks from the command line to anaconda cloud via\n",
    "```bash\n",
    "anaconda upload my-notebook.ipynb\n",
    "```\n",
    "\n",
    "and download via\n",
    "```bash\n",
    "anaconda download username/my-notebook\n",
    "```"
   ]
  },
  {
   "cell_type": "code",
   "execution_count": 20,
   "metadata": {},
   "outputs": [
    {
     "name": "stdout",
     "output_type": "stream",
     "text": [
      "0: \u001b[1;0m\"red\"\u001b[0m\n",
      "1: \u001b[1;1m\"red\"\u001b[0m\n",
      "2: \u001b[1;2m\"red\"\u001b[0m\n",
      "3: \u001b[1;3m\"red\"\u001b[0m\n",
      "4: \u001b[1;4m\"red\"\u001b[0m\n",
      "5: \u001b[1;5m\"red\"\u001b[0m\n",
      "6: \u001b[1;6m\"red\"\u001b[0m\n",
      "7: \u001b[1;7m\"red\"\u001b[0m\n",
      "8: \u001b[1;8m\"red\"\u001b[0m\n",
      "9: \u001b[1;9m\"red\"\u001b[0m\n",
      "10: \u001b[1;10m\"red\"\u001b[0m\n",
      "11: \u001b[1;11m\"red\"\u001b[0m\n",
      "12: \u001b[1;12m\"red\"\u001b[0m\n",
      "13: \u001b[1;13m\"red\"\u001b[0m\n",
      "14: \u001b[1;14m\"red\"\u001b[0m\n",
      "15: \u001b[1;15m\"red\"\u001b[0m\n",
      "16: \u001b[1;16m\"red\"\u001b[0m\n",
      "17: \u001b[1;17m\"red\"\u001b[0m\n",
      "18: \u001b[1;18m\"red\"\u001b[0m\n",
      "19: \u001b[1;19m\"red\"\u001b[0m\n",
      "20: \u001b[1;20m\"red\"\u001b[0m\n",
      "21: \u001b[1;21m\"red\"\u001b[0m\n",
      "22: \u001b[1;22m\"red\"\u001b[0m\n",
      "23: \u001b[1;23m\"red\"\u001b[0m\n",
      "24: \u001b[1;24m\"red\"\u001b[0m\n",
      "25: \u001b[1;25m\"red\"\u001b[0m\n",
      "26: \u001b[1;26m\"red\"\u001b[0m\n",
      "27: \u001b[1;27m\"red\"\u001b[0m\n",
      "28: \u001b[1;28m\"red\"\u001b[0m\n",
      "29: \u001b[1;29m\"red\"\u001b[0m\n",
      "30: \u001b[1;30m\"red\"\u001b[0m\n",
      "31: \u001b[1;31m\"red\"\u001b[0m\n",
      "32: \u001b[1;32m\"red\"\u001b[0m\n",
      "33: \u001b[1;33m\"red\"\u001b[0m\n",
      "34: \u001b[1;34m\"red\"\u001b[0m\n",
      "35: \u001b[1;35m\"red\"\u001b[0m\n",
      "36: \u001b[1;36m\"red\"\u001b[0m\n",
      "37: \u001b[1;37m\"red\"\u001b[0m\n",
      "38: \u001b[1;38m\"red\"\u001b[0m\n",
      "39: \u001b[1;39m\"red\"\u001b[0m\n",
      "40: \u001b[1;40m\"red\"\u001b[0m\n",
      "41: \u001b[1;41m\"red\"\u001b[0m\n",
      "42: \u001b[1;42m\"red\"\u001b[0m\n",
      "43: \u001b[1;43m\"red\"\u001b[0m\n",
      "44: \u001b[1;44m\"red\"\u001b[0m\n",
      "45: \u001b[1;45m\"red\"\u001b[0m\n",
      "46: \u001b[1;46m\"red\"\u001b[0m\n",
      "47: \u001b[1;47m\"red\"\u001b[0m\n",
      "48: \u001b[1;48m\"red\"\u001b[0m\n",
      "49: \u001b[1;49m\"red\"\u001b[0m\n",
      "50: \u001b[1;50m\"red\"\u001b[0m\n",
      "51: \u001b[1;51m\"red\"\u001b[0m\n",
      "52: \u001b[1;52m\"red\"\u001b[0m\n",
      "53: \u001b[1;53m\"red\"\u001b[0m\n",
      "54: \u001b[1;54m\"red\"\u001b[0m\n",
      "55: \u001b[1;55m\"red\"\u001b[0m\n",
      "56: \u001b[1;56m\"red\"\u001b[0m\n",
      "57: \u001b[1;57m\"red\"\u001b[0m\n",
      "58: \u001b[1;58m\"red\"\u001b[0m\n",
      "59: \u001b[1;59m\"red\"\u001b[0m\n",
      "60: \u001b[1;60m\"red\"\u001b[0m\n",
      "61: \u001b[1;61m\"red\"\u001b[0m\n",
      "62: \u001b[1;62m\"red\"\u001b[0m\n",
      "63: \u001b[1;63m\"red\"\u001b[0m\n",
      "64: \u001b[1;64m\"red\"\u001b[0m\n",
      "65: \u001b[1;65m\"red\"\u001b[0m\n",
      "66: \u001b[1;66m\"red\"\u001b[0m\n",
      "67: \u001b[1;67m\"red\"\u001b[0m\n",
      "68: \u001b[1;68m\"red\"\u001b[0m\n",
      "69: \u001b[1;69m\"red\"\u001b[0m\n",
      "70: \u001b[1;70m\"red\"\u001b[0m\n",
      "71: \u001b[1;71m\"red\"\u001b[0m\n",
      "72: \u001b[1;72m\"red\"\u001b[0m\n",
      "73: \u001b[1;73m\"red\"\u001b[0m\n",
      "74: \u001b[1;74m\"red\"\u001b[0m\n",
      "75: \u001b[1;75m\"red\"\u001b[0m\n",
      "76: \u001b[1;76m\"red\"\u001b[0m\n",
      "77: \u001b[1;77m\"red\"\u001b[0m\n",
      "78: \u001b[1;78m\"red\"\u001b[0m\n",
      "79: \u001b[1;79m\"red\"\u001b[0m\n",
      "80: \u001b[1;80m\"red\"\u001b[0m\n",
      "81: \u001b[1;81m\"red\"\u001b[0m\n",
      "82: \u001b[1;82m\"red\"\u001b[0m\n",
      "83: \u001b[1;83m\"red\"\u001b[0m\n",
      "84: \u001b[1;84m\"red\"\u001b[0m\n",
      "85: \u001b[1;85m\"red\"\u001b[0m\n",
      "86: \u001b[1;86m\"red\"\u001b[0m\n",
      "87: \u001b[1;87m\"red\"\u001b[0m\n",
      "88: \u001b[1;88m\"red\"\u001b[0m\n",
      "89: \u001b[1;89m\"red\"\u001b[0m\n",
      "90: \u001b[1;90m\"red\"\u001b[0m\n",
      "91: \u001b[1;91m\"red\"\u001b[0m\n",
      "92: \u001b[1;92m\"red\"\u001b[0m\n",
      "93: \u001b[1;93m\"red\"\u001b[0m\n",
      "94: \u001b[1;94m\"red\"\u001b[0m\n",
      "95: \u001b[1;95m\"red\"\u001b[0m\n",
      "96: \u001b[1;96m\"red\"\u001b[0m\n",
      "97: \u001b[1;97m\"red\"\u001b[0m\n",
      "98: \u001b[1;98m\"red\"\u001b[0m\n",
      "99: \u001b[1;99m\"red\"\u001b[0m\n",
      "100: \u001b[1;100m\"red\"\u001b[0m\n",
      "101: \u001b[1;101m\"red\"\u001b[0m\n",
      "102: \u001b[1;102m\"red\"\u001b[0m\n",
      "103: \u001b[1;103m\"red\"\u001b[0m\n",
      "104: \u001b[1;104m\"red\"\u001b[0m\n",
      "105: \u001b[1;105m\"red\"\u001b[0m\n",
      "106: \u001b[1;106m\"red\"\u001b[0m\n",
      "107: \u001b[1;107m\"red\"\u001b[0m\n",
      "108: \u001b[1;108m\"red\"\u001b[0m\n",
      "109: \u001b[1;109m\"red\"\u001b[0m\n",
      "110: \u001b[1;110m\"red\"\u001b[0m\n",
      "111: \u001b[1;111m\"red\"\u001b[0m\n",
      "112: \u001b[1;112m\"red\"\u001b[0m\n",
      "113: \u001b[1;113m\"red\"\u001b[0m\n",
      "114: \u001b[1;114m\"red\"\u001b[0m\n",
      "115: \u001b[1;115m\"red\"\u001b[0m\n",
      "116: \u001b[1;116m\"red\"\u001b[0m\n",
      "117: \u001b[1;117m\"red\"\u001b[0m\n",
      "118: \u001b[1;118m\"red\"\u001b[0m\n",
      "119: \u001b[1;119m\"red\"\u001b[0m\n",
      "120: \u001b[1;120m\"red\"\u001b[0m\n",
      "121: \u001b[1;121m\"red\"\u001b[0m\n",
      "122: \u001b[1;122m\"red\"\u001b[0m\n",
      "123: \u001b[1;123m\"red\"\u001b[0m\n",
      "124: \u001b[1;124m\"red\"\u001b[0m\n",
      "125: \u001b[1;125m\"red\"\u001b[0m\n",
      "126: \u001b[1;126m\"red\"\u001b[0m\n",
      "127: \u001b[1;127m\"red\"\u001b[0m\n",
      "128: \u001b[1;128m\"red\"\u001b[0m\n",
      "129: \u001b[1;129m\"red\"\u001b[0m\n",
      "130: \u001b[1;130m\"red\"\u001b[0m\n",
      "131: \u001b[1;131m\"red\"\u001b[0m\n",
      "132: \u001b[1;132m\"red\"\u001b[0m\n",
      "133: \u001b[1;133m\"red\"\u001b[0m\n",
      "134: \u001b[1;134m\"red\"\u001b[0m\n",
      "135: \u001b[1;135m\"red\"\u001b[0m\n",
      "136: \u001b[1;136m\"red\"\u001b[0m\n",
      "137: \u001b[1;137m\"red\"\u001b[0m\n",
      "138: \u001b[1;138m\"red\"\u001b[0m\n",
      "139: \u001b[1;139m\"red\"\u001b[0m\n",
      "140: \u001b[1;140m\"red\"\u001b[0m\n",
      "141: \u001b[1;141m\"red\"\u001b[0m\n",
      "142: \u001b[1;142m\"red\"\u001b[0m\n",
      "143: \u001b[1;143m\"red\"\u001b[0m\n",
      "144: \u001b[1;144m\"red\"\u001b[0m\n",
      "145: \u001b[1;145m\"red\"\u001b[0m\n",
      "146: \u001b[1;146m\"red\"\u001b[0m\n",
      "147: \u001b[1;147m\"red\"\u001b[0m\n",
      "148: \u001b[1;148m\"red\"\u001b[0m\n",
      "149: \u001b[1;149m\"red\"\u001b[0m\n",
      "150: \u001b[1;150m\"red\"\u001b[0m\n",
      "151: \u001b[1;151m\"red\"\u001b[0m\n",
      "152: \u001b[1;152m\"red\"\u001b[0m\n",
      "153: \u001b[1;153m\"red\"\u001b[0m\n",
      "154: \u001b[1;154m\"red\"\u001b[0m\n",
      "155: \u001b[1;155m\"red\"\u001b[0m\n",
      "156: \u001b[1;156m\"red\"\u001b[0m\n",
      "157: \u001b[1;157m\"red\"\u001b[0m\n",
      "158: \u001b[1;158m\"red\"\u001b[0m\n",
      "159: \u001b[1;159m\"red\"\u001b[0m\n",
      "160: \u001b[1;160m\"red\"\u001b[0m\n",
      "161: \u001b[1;161m\"red\"\u001b[0m\n",
      "162: \u001b[1;162m\"red\"\u001b[0m\n",
      "163: \u001b[1;163m\"red\"\u001b[0m\n",
      "164: \u001b[1;164m\"red\"\u001b[0m\n",
      "165: \u001b[1;165m\"red\"\u001b[0m\n",
      "166: \u001b[1;166m\"red\"\u001b[0m\n",
      "167: \u001b[1;167m\"red\"\u001b[0m\n",
      "168: \u001b[1;168m\"red\"\u001b[0m\n",
      "169: \u001b[1;169m\"red\"\u001b[0m\n",
      "170: \u001b[1;170m\"red\"\u001b[0m\n",
      "171: \u001b[1;171m\"red\"\u001b[0m\n",
      "172: \u001b[1;172m\"red\"\u001b[0m\n",
      "173: \u001b[1;173m\"red\"\u001b[0m\n",
      "174: \u001b[1;174m\"red\"\u001b[0m\n",
      "175: \u001b[1;175m\"red\"\u001b[0m\n",
      "176: \u001b[1;176m\"red\"\u001b[0m\n",
      "177: \u001b[1;177m\"red\"\u001b[0m\n",
      "178: \u001b[1;178m\"red\"\u001b[0m\n",
      "179: \u001b[1;179m\"red\"\u001b[0m\n",
      "180: \u001b[1;180m\"red\"\u001b[0m\n",
      "181: \u001b[1;181m\"red\"\u001b[0m\n",
      "182: \u001b[1;182m\"red\"\u001b[0m\n",
      "183: \u001b[1;183m\"red\"\u001b[0m\n",
      "184: \u001b[1;184m\"red\"\u001b[0m\n",
      "185: \u001b[1;185m\"red\"\u001b[0m\n",
      "186: \u001b[1;186m\"red\"\u001b[0m\n",
      "187: \u001b[1;187m\"red\"\u001b[0m\n",
      "188: \u001b[1;188m\"red\"\u001b[0m\n",
      "189: \u001b[1;189m\"red\"\u001b[0m\n",
      "190: \u001b[1;190m\"red\"\u001b[0m\n",
      "191: \u001b[1;191m\"red\"\u001b[0m\n",
      "192: \u001b[1;192m\"red\"\u001b[0m\n",
      "193: \u001b[1;193m\"red\"\u001b[0m\n",
      "194: \u001b[1;194m\"red\"\u001b[0m\n",
      "195: \u001b[1;195m\"red\"\u001b[0m\n",
      "196: \u001b[1;196m\"red\"\u001b[0m\n",
      "197: \u001b[1;197m\"red\"\u001b[0m\n",
      "198: \u001b[1;198m\"red\"\u001b[0m\n",
      "199: \u001b[1;199m\"red\"\u001b[0m\n",
      "200: \u001b[1;200m\"red\"\u001b[0m\n",
      "201: \u001b[1;201m\"red\"\u001b[0m\n",
      "202: \u001b[1;202m\"red\"\u001b[0m\n",
      "203: \u001b[1;203m\"red\"\u001b[0m\n",
      "204: \u001b[1;204m\"red\"\u001b[0m\n",
      "205: \u001b[1;205m\"red\"\u001b[0m\n",
      "206: \u001b[1;206m\"red\"\u001b[0m\n",
      "207: \u001b[1;207m\"red\"\u001b[0m\n",
      "208: \u001b[1;208m\"red\"\u001b[0m\n",
      "209: \u001b[1;209m\"red\"\u001b[0m\n",
      "210: \u001b[1;210m\"red\"\u001b[0m\n",
      "211: \u001b[1;211m\"red\"\u001b[0m\n",
      "212: \u001b[1;212m\"red\"\u001b[0m\n",
      "213: \u001b[1;213m\"red\"\u001b[0m\n",
      "214: \u001b[1;214m\"red\"\u001b[0m\n",
      "215: \u001b[1;215m\"red\"\u001b[0m\n",
      "216: \u001b[1;216m\"red\"\u001b[0m\n",
      "217: \u001b[1;217m\"red\"\u001b[0m\n",
      "218: \u001b[1;218m\"red\"\u001b[0m\n",
      "219: \u001b[1;219m\"red\"\u001b[0m\n",
      "220: \u001b[1;220m\"red\"\u001b[0m\n",
      "221: \u001b[1;221m\"red\"\u001b[0m\n",
      "222: \u001b[1;222m\"red\"\u001b[0m\n",
      "223: \u001b[1;223m\"red\"\u001b[0m\n",
      "224: \u001b[1;224m\"red\"\u001b[0m\n",
      "225: \u001b[1;225m\"red\"\u001b[0m\n",
      "226: \u001b[1;226m\"red\"\u001b[0m\n",
      "227: \u001b[1;227m\"red\"\u001b[0m\n",
      "228: \u001b[1;228m\"red\"\u001b[0m\n",
      "229: \u001b[1;229m\"red\"\u001b[0m\n",
      "230: \u001b[1;230m\"red\"\u001b[0m\n",
      "231: \u001b[1;231m\"red\"\u001b[0m\n",
      "232: \u001b[1;232m\"red\"\u001b[0m\n",
      "233: \u001b[1;233m\"red\"\u001b[0m\n",
      "234: \u001b[1;234m\"red\"\u001b[0m\n",
      "235: \u001b[1;235m\"red\"\u001b[0m\n",
      "236: \u001b[1;236m\"red\"\u001b[0m\n",
      "237: \u001b[1;237m\"red\"\u001b[0m\n",
      "238: \u001b[1;238m\"red\"\u001b[0m\n",
      "239: \u001b[1;239m\"red\"\u001b[0m\n",
      "240: \u001b[1;240m\"red\"\u001b[0m\n",
      "241: \u001b[1;241m\"red\"\u001b[0m\n",
      "242: \u001b[1;242m\"red\"\u001b[0m\n",
      "243: \u001b[1;243m\"red\"\u001b[0m\n",
      "244: \u001b[1;244m\"red\"\u001b[0m\n",
      "245: \u001b[1;245m\"red\"\u001b[0m\n",
      "246: \u001b[1;246m\"red\"\u001b[0m\n",
      "247: \u001b[1;247m\"red\"\u001b[0m\n",
      "248: \u001b[1;248m\"red\"\u001b[0m\n",
      "249: \u001b[1;249m\"red\"\u001b[0m\n",
      "250: \u001b[1;250m\"red\"\u001b[0m\n",
      "251: \u001b[1;251m\"red\"\u001b[0m\n",
      "252: \u001b[1;252m\"red\"\u001b[0m\n",
      "253: \u001b[1;253m\"red\"\u001b[0m\n",
      "254: \u001b[1;254m\"red\"\u001b[0m\n"
     ]
    }
   ],
   "source": [
    "for i in range(255):\n",
    "    print(f\"{i}: \\x1b[1;{i}m\\\"red\\\"\\x1b[0m\")"
   ]
  },
  {
   "cell_type": "code",
   "execution_count": 25,
   "metadata": {},
   "outputs": [
    {
     "name": "stdout",
     "output_type": "stream",
     "text": [
      "          temp_c\n",
      "Portland    17.0\n",
      "Berkeley    25.0\n",
      "---\n",
      "type(val): <class 'pandas.core.frame.DataFrame'>\n",
      "val.count(): temp_c    2\n",
      "dtype: int64\n",
      "val.describe():           temp_c\n",
      "count   2.000000\n",
      "mean   21.000000\n",
      "std     5.656854\n",
      "min    17.000000\n",
      "25%    19.000000\n",
      "50%    21.000000\n",
      "75%    23.000000\n",
      "max    25.000000\n",
      "/BEGIN\n",
      "          temp_c\n",
      "Portland    17.0\n",
      "Berkeley    25.0\n",
      "/END\n"
     ]
    },
    {
     "data": {
      "text/html": [
       "<div>\n",
       "<style scoped>\n",
       "    .dataframe tbody tr th:only-of-type {\n",
       "        vertical-align: middle;\n",
       "    }\n",
       "\n",
       "    .dataframe tbody tr th {\n",
       "        vertical-align: top;\n",
       "    }\n",
       "\n",
       "    .dataframe thead th {\n",
       "        text-align: right;\n",
       "    }\n",
       "</style>\n",
       "<table border=\"1\" class=\"dataframe\">\n",
       "  <thead>\n",
       "    <tr style=\"text-align: right;\">\n",
       "      <th></th>\n",
       "      <th>temp_c</th>\n",
       "      <th>temp_f</th>\n",
       "    </tr>\n",
       "  </thead>\n",
       "  <tbody>\n",
       "    <tr>\n",
       "      <th>Portland</th>\n",
       "      <td>17.0</td>\n",
       "      <td>62.6</td>\n",
       "    </tr>\n",
       "    <tr>\n",
       "      <th>Berkeley</th>\n",
       "      <td>25.0</td>\n",
       "      <td>77.0</td>\n",
       "    </tr>\n",
       "  </tbody>\n",
       "</table>\n",
       "</div>"
      ],
      "text/plain": [
       "          temp_c  temp_f\n",
       "Portland    17.0    62.6\n",
       "Berkeley    25.0    77.0"
      ]
     },
     "execution_count": 25,
     "metadata": {},
     "output_type": "execute_result"
    }
   ],
   "source": [
    "# assign\n",
    "import pandas as pd\n",
    "\n",
    "df = pd.DataFrame(\n",
    "    {'temp_c': [17.0, 25.0]},\n",
    "    index=['Portland', 'Berkeley'])\n",
    "print(df)\n",
    "\n",
    "print(\"---\")\n",
    "\n",
    "def assign_function(val):\n",
    "    print(f\"type(val): {type(val)}\")\n",
    "    print(f\"val.count(): {val.count()}\")\n",
    "    print(f\"val.describe(): {val.describe()}\")\n",
    "    print(\"/BEGIN\")\n",
    "    print(val.head())\n",
    "    print(\"/END\")\n",
    "    return val.temp_c * 9 / 5 + 32\n",
    "df.assign(temp_f=assign_function)\n",
    "\n",
    "# df.assign(temp_f=lambda x: x.temp_c * 9 / 5 + 32)"
   ]
  }
 ],
 "metadata": {
  "kernelspec": {
   "display_name": "Python 3",
   "language": "python",
   "name": "python3"
  },
  "language_info": {
   "codemirror_mode": {
    "name": "ipython",
    "version": 3
   },
   "file_extension": ".py",
   "mimetype": "text/x-python",
   "name": "python",
   "nbconvert_exporter": "python",
   "pygments_lexer": "ipython3",
   "version": "3.7.2"
  }
 },
 "nbformat": 4,
 "nbformat_minor": 2
}
